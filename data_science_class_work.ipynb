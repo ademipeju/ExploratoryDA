{
 "cells": [
  {
   "cell_type": "code",
   "execution_count": 2,
   "id": "4b2a25f9-60ec-4c7f-8742-c156ecdcc296",
   "metadata": {},
   "outputs": [],
   "source": [
    "#import library\n",
    "import pandas as pd"
   ]
  },
  {
   "cell_type": "code",
   "execution_count": 3,
   "id": "cc8f9f99-973a-47ba-bb0c-85b0c1122842",
   "metadata": {},
   "outputs": [],
   "source": [
    "#load data\n",
    "df= pd.read_csv(r\"C:\\Users\\HP\\Desktop\\Python_Inheritance\\framingham.csv\")"
   ]
  },
  {
   "cell_type": "code",
   "execution_count": 4,
   "id": "4c0fef2c-fcf1-4a72-a071-f0011d1d224d",
   "metadata": {},
   "outputs": [
    {
     "data": {
      "text/html": [
       "<div>\n",
       "<style scoped>\n",
       "    .dataframe tbody tr th:only-of-type {\n",
       "        vertical-align: middle;\n",
       "    }\n",
       "\n",
       "    .dataframe tbody tr th {\n",
       "        vertical-align: top;\n",
       "    }\n",
       "\n",
       "    .dataframe thead th {\n",
       "        text-align: right;\n",
       "    }\n",
       "</style>\n",
       "<table border=\"1\" class=\"dataframe\">\n",
       "  <thead>\n",
       "    <tr style=\"text-align: right;\">\n",
       "      <th></th>\n",
       "      <th>male</th>\n",
       "      <th>age</th>\n",
       "      <th>education</th>\n",
       "      <th>currentSmoker</th>\n",
       "      <th>cigsPerDay</th>\n",
       "      <th>BPMeds</th>\n",
       "      <th>prevalentStroke</th>\n",
       "      <th>prevalentHyp</th>\n",
       "      <th>diabetes</th>\n",
       "      <th>totChol</th>\n",
       "      <th>sysBP</th>\n",
       "      <th>diaBP</th>\n",
       "      <th>BMI</th>\n",
       "      <th>heartRate</th>\n",
       "      <th>glucose</th>\n",
       "      <th>TenYearCHD</th>\n",
       "    </tr>\n",
       "  </thead>\n",
       "  <tbody>\n",
       "    <tr>\n",
       "      <th>0</th>\n",
       "      <td>Male</td>\n",
       "      <td>39</td>\n",
       "      <td>post grad</td>\n",
       "      <td>No</td>\n",
       "      <td>0.0</td>\n",
       "      <td>No</td>\n",
       "      <td>No</td>\n",
       "      <td>No</td>\n",
       "      <td>No</td>\n",
       "      <td>195.0</td>\n",
       "      <td>106.0</td>\n",
       "      <td>70.0</td>\n",
       "      <td>26.97</td>\n",
       "      <td>80.0</td>\n",
       "      <td>77.0</td>\n",
       "      <td>No</td>\n",
       "    </tr>\n",
       "    <tr>\n",
       "      <th>1</th>\n",
       "      <td>Female</td>\n",
       "      <td>46</td>\n",
       "      <td>Secondary Edu</td>\n",
       "      <td>No</td>\n",
       "      <td>0.0</td>\n",
       "      <td>No</td>\n",
       "      <td>No</td>\n",
       "      <td>No</td>\n",
       "      <td>No</td>\n",
       "      <td>250.0</td>\n",
       "      <td>121.0</td>\n",
       "      <td>81.0</td>\n",
       "      <td>28.73</td>\n",
       "      <td>95.0</td>\n",
       "      <td>76.0</td>\n",
       "      <td>No</td>\n",
       "    </tr>\n",
       "  </tbody>\n",
       "</table>\n",
       "</div>"
      ],
      "text/plain": [
       "     male  age      education currentSmoker  cigsPerDay BPMeds  \\\n",
       "0    Male   39      post grad            No         0.0     No   \n",
       "1  Female   46  Secondary Edu            No         0.0     No   \n",
       "\n",
       "  prevalentStroke prevalentHyp diabetes  totChol  sysBP  diaBP    BMI  \\\n",
       "0              No           No       No    195.0  106.0   70.0  26.97   \n",
       "1              No           No       No    250.0  121.0   81.0  28.73   \n",
       "\n",
       "   heartRate  glucose TenYearCHD  \n",
       "0       80.0     77.0         No  \n",
       "1       95.0     76.0         No  "
      ]
     },
     "execution_count": 4,
     "metadata": {},
     "output_type": "execute_result"
    }
   ],
   "source": [
    "df.head(2)"
   ]
  },
  {
   "cell_type": "markdown",
   "id": "0d14bb1e-3d1b-4f93-ad2c-bab687e98c60",
   "metadata": {},
   "source": [
    "# Exploratory data analysis"
   ]
  },
  {
   "cell_type": "code",
   "execution_count": 10,
   "id": "24693e71-053b-41fe-a586-2b6fd3f11603",
   "metadata": {},
   "outputs": [
    {
     "name": "stdout",
     "output_type": "stream",
     "text": [
      "<class 'pandas.core.frame.DataFrame'>\n",
      "RangeIndex: 4240 entries, 0 to 4239\n",
      "Data columns (total 16 columns):\n",
      " #   Column           Non-Null Count  Dtype  \n",
      "---  ------           --------------  -----  \n",
      " 0   male             4240 non-null   object \n",
      " 1   age              4240 non-null   int64  \n",
      " 2   education        4135 non-null   object \n",
      " 3   currentSmoker    4240 non-null   object \n",
      " 4   cigsPerDay       4211 non-null   float64\n",
      " 5   BPMeds           4187 non-null   object \n",
      " 6   prevalentStroke  4240 non-null   object \n",
      " 7   prevalentHyp     4240 non-null   object \n",
      " 8   diabetes         4240 non-null   object \n",
      " 9   totChol          4190 non-null   float64\n",
      " 10  sysBP            4240 non-null   float64\n",
      " 11  diaBP            4240 non-null   float64\n",
      " 12  BMI              4221 non-null   float64\n",
      " 13  heartRate        4239 non-null   float64\n",
      " 14  glucose          3852 non-null   float64\n",
      " 15  TenYearCHD       4240 non-null   object \n",
      "dtypes: float64(7), int64(1), object(8)\n",
      "memory usage: 530.1+ KB\n"
     ]
    }
   ],
   "source": [
    "df.info()"
   ]
  },
  {
   "cell_type": "code",
   "execution_count": 12,
   "id": "2a509161-c216-4130-9ecd-caa205e8feb8",
   "metadata": {},
   "outputs": [
    {
     "data": {
      "text/plain": [
       "male                 0\n",
       "age                  0\n",
       "education          105\n",
       "currentSmoker        0\n",
       "cigsPerDay          29\n",
       "BPMeds              53\n",
       "prevalentStroke      0\n",
       "prevalentHyp         0\n",
       "diabetes             0\n",
       "totChol             50\n",
       "sysBP                0\n",
       "diaBP                0\n",
       "BMI                 19\n",
       "heartRate            1\n",
       "glucose            388\n",
       "TenYearCHD           0\n",
       "dtype: int64"
      ]
     },
     "execution_count": 12,
     "metadata": {},
     "output_type": "execute_result"
    }
   ],
   "source": [
    "df.isnull().sum()"
   ]
  },
  {
   "cell_type": "code",
   "execution_count": 13,
   "id": "a8ae211c-cf37-4f0d-b7a2-18fa33a23d60",
   "metadata": {},
   "outputs": [
    {
     "data": {
      "text/plain": [
       "Index(['male', 'age', 'education', 'currentSmoker', 'cigsPerDay', 'BPMeds',\n",
       "       'prevalentStroke', 'prevalentHyp', 'diabetes', 'totChol', 'sysBP',\n",
       "       'diaBP', 'BMI', 'heartRate', 'glucose', 'TenYearCHD'],\n",
       "      dtype='object')"
      ]
     },
     "execution_count": 13,
     "metadata": {},
     "output_type": "execute_result"
    }
   ],
   "source": [
    "df.columns"
   ]
  },
  {
   "cell_type": "code",
   "execution_count": 46,
   "id": "563c3d48-ead1-4ef7-9f30-6e9a31e5e947",
   "metadata": {},
   "outputs": [],
   "source": [
    "#renaming a column\n",
    "#df.rename(columns={\"male\":\"gender\"}\n",
    "df.rename(columns={\"male\": \"gender\"}, inplace=True)"
   ]
  },
  {
   "cell_type": "code",
   "execution_count": 20,
   "id": "6b9acddc-b52f-4d4b-b88a-484998fa0c7a",
   "metadata": {},
   "outputs": [
    {
     "data": {
      "text/plain": [
       "0"
      ]
     },
     "execution_count": 20,
     "metadata": {},
     "output_type": "execute_result"
    }
   ],
   "source": [
    "df[\"gender\"].isnull().sum()"
   ]
  },
  {
   "cell_type": "code",
   "execution_count": 17,
   "id": "505b803e-3cd8-4b45-b977-a29b79f5a2d6",
   "metadata": {},
   "outputs": [
    {
     "name": "stdout",
     "output_type": "stream",
     "text": [
      "education\n",
      "cigsPerDay\n",
      "BPMeds\n",
      "totChol\n",
      "BMI\n",
      "heartRate\n",
      "glucose\n"
     ]
    }
   ],
   "source": [
    "#to know the name of column with a misssing value, \n",
    "for col in df.columns:\n",
    "    if df[col].isnull().sum()>0:\n",
    "        print(col)"
   ]
  },
  {
   "cell_type": "code",
   "execution_count": 21,
   "id": "fb5b631e-19d3-401b-9c6f-b37ed69ace03",
   "metadata": {},
   "outputs": [
    {
     "data": {
      "text/plain": [
       "(4240, 16)"
      ]
     },
     "execution_count": 21,
     "metadata": {},
     "output_type": "execute_result"
    }
   ],
   "source": [
    "df.shape"
   ]
  },
  {
   "cell_type": "code",
   "execution_count": 23,
   "id": "36baeb71-f11a-4081-bd58-4461e44883b1",
   "metadata": {},
   "outputs": [
    {
     "data": {
      "text/plain": [
       "<Axes: ylabel='education'>"
      ]
     },
     "execution_count": 23,
     "metadata": {},
     "output_type": "execute_result"
    },
    {
     "data": {
      "image/png": "[encoded data removed]",
      "text/plain": [
       "<Figure size 640x480 with 1 Axes>"
      ]
     },
     "metadata": {},
     "output_type": "display_data"
    }
   ],
   "source": [
    "df[\"education\"].value_counts().plot(kind=\"barh\")"
   ]
  },
  {
   "cell_type": "code",
   "execution_count": 25,
   "id": "9cc2610e-e7f6-4696-b6a7-23f9705b2b29",
   "metadata": {},
   "outputs": [
    {
     "data": {
      "text/plain": [
       "array(['post grad', 'Secondary Edu', 'Primary Edu', 'Tertiary Edu', nan],\n",
       "      dtype=object)"
      ]
     },
     "execution_count": 25,
     "metadata": {},
     "output_type": "execute_result"
    }
   ],
   "source": [
    "df[\"education\"].unique()"
   ]
  },
  {
   "cell_type": "code",
   "execution_count": 30,
   "id": "8109dd71-09ee-4b54-aa0b-bcb8a86fcccb",
   "metadata": {},
   "outputs": [
    {
     "data": {
      "text/plain": [
       "'Primary Edu'"
      ]
     },
     "execution_count": 30,
     "metadata": {},
     "output_type": "execute_result"
    }
   ],
   "source": [
    "df[\"education\"].mode()[0]"
   ]
  },
  {
   "cell_type": "code",
   "execution_count": 31,
   "id": "b243a62b-cc5e-44de-acf2-ab1ccb2c99fa",
   "metadata": {},
   "outputs": [],
   "source": [
    "#another method to fill a missing value\n",
    "df[\"education\"].fillna(df[\"education\"].mode()[0],inplace=True )"
   ]
  },
  {
   "cell_type": "code",
   "execution_count": 19,
   "id": "e586990c-0c6f-4e78-b868-c25775d8df44",
   "metadata": {},
   "outputs": [],
   "source": [
    "#to fill a missing value\n",
    "df[\"education\"]=df[\"education\"].fillna(\"primary Edu\")"
   ]
  },
  {
   "cell_type": "code",
   "execution_count": 34,
   "id": "3908d5ff-85b7-4ee6-9033-7865273134f3",
   "metadata": {},
   "outputs": [
    {
     "data": {
      "text/plain": [
       "0"
      ]
     },
     "execution_count": 34,
     "metadata": {},
     "output_type": "execute_result"
    }
   ],
   "source": [
    "df[\"education\"].isnull().sum()"
   ]
  },
  {
   "cell_type": "code",
   "execution_count": 41,
   "id": "df761d38-53c9-430e-b681-4b9be75ea81d",
   "metadata": {},
   "outputs": [
    {
     "data": {
      "text/plain": [
       "<Axes: ylabel='Frequency'>"
      ]
     },
     "execution_count": 41,
     "metadata": {},
     "output_type": "execute_result"
    },
    {
     "data": {
      "image/png": "[encoded data removed]",
      "text/plain": [
       "<Figure size 640x480 with 1 Axes>"
      ]
     },
     "metadata": {},
     "output_type": "display_data"
    }
   ],
   "source": [
    "df.cigsPerDay.plot(kind=\"hist\", grid= True)"
   ]
  },
  {
   "cell_type": "code",
   "execution_count": 44,
   "id": "d977d2f1-005c-4237-bbfd-048b0145a5ef",
   "metadata": {},
   "outputs": [
    {
     "data": {
      "text/plain": [
       "count    4211.000000\n",
       "mean        9.005937\n",
       "std        11.922462\n",
       "min         0.000000\n",
       "25%         0.000000\n",
       "50%         0.000000\n",
       "75%        20.000000\n",
       "max        70.000000\n",
       "Name: cigsPerDay, dtype: float64"
      ]
     },
     "execution_count": 44,
     "metadata": {},
     "output_type": "execute_result"
    }
   ],
   "source": [
    "df.cigsPerDay.describe()"
   ]
  },
  {
   "cell_type": "code",
   "execution_count": 45,
   "id": "1d74b320-fab2-4dc9-bcf6-1518708e850f",
   "metadata": {},
   "outputs": [
    {
     "data": {
      "text/plain": [
       "0.0"
      ]
     },
     "execution_count": 45,
     "metadata": {},
     "output_type": "execute_result"
    }
   ],
   "source": [
    "#median will be used here because std is higher than the mean and if the data is not following a normal distribution. \n",
    "#we can use mean if std is lower than the mean\n",
    "df.cigsPerDay.median()"
   ]
  },
  {
   "cell_type": "code",
   "execution_count": 50,
   "id": "05d0d7e8-ca4c-4246-8592-4c28683761cc",
   "metadata": {},
   "outputs": [
    {
     "data": {
      "text/plain": [
       "0.0"
      ]
     },
     "execution_count": 50,
     "metadata": {},
     "output_type": "execute_result"
    }
   ],
   "source": [
    "df[\"cigsPerDay\"].median()"
   ]
  },
  {
   "cell_type": "code",
   "execution_count": 51,
   "id": "d43278da-6ee2-43dd-b775-8bc9d8b1843c",
   "metadata": {},
   "outputs": [],
   "source": [
    "df[\"cigsPerDay\"].fillna(df[\"cigsPerDay\"].median(),inplace=True )"
   ]
  },
  {
   "cell_type": "code",
   "execution_count": null,
   "id": "9e40619b-19a3-470d-9004-0737d776e6dd",
   "metadata": {},
   "outputs": [],
   "source": []
  },
  {
   "cell_type": "code",
   "execution_count": 53,
   "id": "2ea64c72-f887-478b-b584-f9cf29d44a23",
   "metadata": {},
   "outputs": [
    {
     "data": {
      "text/plain": [
       "count     4187\n",
       "unique       2\n",
       "top         No\n",
       "freq      4063\n",
       "Name: BPMeds, dtype: object"
      ]
     },
     "execution_count": 53,
     "metadata": {},
     "output_type": "execute_result"
    }
   ],
   "source": [
    "df.BPMeds.describe()"
   ]
  },
  {
   "cell_type": "code",
   "execution_count": 55,
   "id": "3a5757a9-0230-4ff8-9dab-67a838b6c239",
   "metadata": {},
   "outputs": [
    {
     "data": {
      "text/plain": [
       "4187"
      ]
     },
     "execution_count": 55,
     "metadata": {},
     "output_type": "execute_result"
    }
   ],
   "source": [
    "df[\"BPMeds\"].count()"
   ]
  },
  {
   "cell_type": "code",
   "execution_count": 5,
   "id": "9c996894-d382-45cb-a541-a49ca29b545b",
   "metadata": {},
   "outputs": [],
   "source": [
    "df[\"BPMeds\"].fillna(df[\"BPMeds\"].mode()[0],inplace=True )"
   ]
  },
  {
   "cell_type": "code",
   "execution_count": 6,
   "id": "fef7c76f-2007-431a-9770-640bf1dc76a9",
   "metadata": {},
   "outputs": [
    {
     "data": {
      "text/plain": [
       "0"
      ]
     },
     "execution_count": 6,
     "metadata": {},
     "output_type": "execute_result"
    }
   ],
   "source": [
    "df[\"BPMeds\"].isnull().sum()"
   ]
  },
  {
   "cell_type": "code",
   "execution_count": 58,
   "id": "03ba0a2d-8bbb-43d4-bf78-4a4d2f218ef0",
   "metadata": {},
   "outputs": [],
   "source": [
    "new_df=df.dropna()"
   ]
  },
  {
   "cell_type": "code",
   "execution_count": 59,
   "id": "24bb8e78-8b8d-49a8-b943-a224994db508",
   "metadata": {},
   "outputs": [
    {
     "data": {
      "text/plain": [
       "gender             0\n",
       "age                0\n",
       "education          0\n",
       "currentSmoker      0\n",
       "cigsPerDay         0\n",
       "BPMeds             0\n",
       "prevalentStroke    0\n",
       "prevalentHyp       0\n",
       "diabetes           0\n",
       "totChol            0\n",
       "sysBP              0\n",
       "diaBP              0\n",
       "BMI                0\n",
       "heartRate          0\n",
       "glucose            0\n",
       "TenYearCHD         0\n",
       "dtype: int64"
      ]
     },
     "execution_count": 59,
     "metadata": {},
     "output_type": "execute_result"
    }
   ],
   "source": [
    "new_df.isnull().sum()"
   ]
  },
  {
   "cell_type": "code",
   "execution_count": 1,
   "id": "9c03625a-00de-47e3-93c6-2f4f02d5ee9b",
   "metadata": {},
   "outputs": [],
   "source": [
    "#creating a function to remove nissing number\n",
    "# def my_missing_value(x):\n",
    "#     df.loc[:, [\"education\", \"BPMeds\", \"totChol\", \"BMI\", \"glucose\", \"cigsPerDay\", \"heartRate\"]]== 0\n",
    "#     for x in df.index:\n",
    "#         if df.loc[x, \"education\", \"BPMeds\", \"totChol\", \"BMI\", \"glucose\", \"cigsPerDay\", \"heartRate\"] == \"NaN\":\n",
    "#             return df.loc[x, \"education\", \"BPMeds\", \"totChol\", \"BMI\", \"glucose\", \"cigsPerDay\", \"heartRate\"]> 0\n",
    "#             df.loc[x, \"education\", \"BPMeds\", \"totChol\", \"BMI\", \"glucose\" \"cigsPerDay\", \"heartRate\"] == 0\n",
    "            \n",
    "#             print(my_missing_value(df.loc[x, \"education\", \"BPMeds\", \"totChol\", \"BMI\", \"glucose\" \"cigsPerDay\", \"heartRate\"] == 0))\n",
    "           "
   ]
  },
  {
   "cell_type": "code",
   "execution_count": 6,
   "id": "0bf7243c-d03d-4a2c-b120-46b8c21aed4f",
   "metadata": {},
   "outputs": [
    {
     "data": {
      "text/plain": [
       "male                 0\n",
       "age                  0\n",
       "education          105\n",
       "currentSmoker        0\n",
       "cigsPerDay          29\n",
       "BPMeds              53\n",
       "prevalentStroke      0\n",
       "prevalentHyp         0\n",
       "diabetes             0\n",
       "totChol             50\n",
       "sysBP                0\n",
       "diaBP                0\n",
       "BMI                 19\n",
       "heartRate            1\n",
       "glucose            388\n",
       "TenYearCHD           0\n",
       "dtype: int64"
      ]
     },
     "execution_count": 6,
     "metadata": {},
     "output_type": "execute_result"
    }
   ],
   "source": [
    "#the function did not work sir\n",
    "df.isnull().sum()"
   ]
  },
  {
   "cell_type": "code",
   "execution_count": null,
   "id": "e640539f-85de-4fb0-873e-d0db658e485a",
   "metadata": {},
   "outputs": [],
   "source": [
    "# def catch_missing_values(df, col=[\"A\"],[\"B\"], [\"C\"], [\"D\"],[\"E\"]):\n",
    "\n"
   ]
  },
  {
   "cell_type": "code",
   "execution_count": null,
   "id": "7f3c9a21-20d3-43bb-ae63-ea2cbb82bba5",
   "metadata": {},
   "outputs": [],
   "source": [
    "#how to make a copy in python. list store memory address\n",
    "# anotherlist=samplelist.copy"
   ]
  },
  {
   "cell_type": "code",
   "execution_count": null,
   "id": "74c2ccca-66e8-433f-81ec-2315dbcad70d",
   "metadata": {},
   "outputs": [],
   "source": [
    "df.cigsPerDay  "
   ]
  },
  {
   "cell_type": "code",
   "execution_count": 8,
   "id": "5b93aaaa-4869-4ca5-87f9-512e0a47f742",
   "metadata": {},
   "outputs": [
    {
     "data": {
      "text/plain": [
       "male                object\n",
       "age                  int64\n",
       "education           object\n",
       "currentSmoker       object\n",
       "cigsPerDay         float64\n",
       "BPMeds              object\n",
       "prevalentStroke     object\n",
       "prevalentHyp        object\n",
       "diabetes            object\n",
       "totChol            float64\n",
       "sysBP              float64\n",
       "diaBP              float64\n",
       "BMI                float64\n",
       "heartRate          float64\n",
       "glucose            float64\n",
       "TenYearCHD          object\n",
       "dtype: object"
      ]
     },
     "execution_count": 8,
     "metadata": {},
     "output_type": "execute_result"
    }
   ],
   "source": [
    "df.dtypes"
   ]
  },
  {
   "cell_type": "code",
   "execution_count": 9,
   "id": "ddd9be64-dc1f-42be-8d0c-f715b193a817",
   "metadata": {},
   "outputs": [
    {
     "data": {
      "text/plain": [
       "dtype('float64')"
      ]
     },
     "execution_count": 9,
     "metadata": {},
     "output_type": "execute_result"
    }
   ],
   "source": [
    "df.dtypes[\"glucose\"]"
   ]
  },
  {
   "cell_type": "code",
   "execution_count": 10,
   "id": "61fa8685-16fc-4a8f-ba2e-57410939bcae",
   "metadata": {},
   "outputs": [
    {
     "data": {
      "text/plain": [
       "dtype('O')"
      ]
     },
     "execution_count": 10,
     "metadata": {},
     "output_type": "execute_result"
    }
   ],
   "source": [
    "df.dtypes[\"education\"]"
   ]
  },
  {
   "cell_type": "code",
   "execution_count": 11,
   "id": "8ba006bf-1fa1-45ec-bec0-8a7743c4f7c5",
   "metadata": {},
   "outputs": [
    {
     "data": {
      "text/plain": [
       "dtype('int64')"
      ]
     },
     "execution_count": 11,
     "metadata": {},
     "output_type": "execute_result"
    }
   ],
   "source": [
    "df.dtypes[\"age\"]"
   ]
  },
  {
   "cell_type": "code",
   "execution_count": 12,
   "id": "30b5a3f7-c54b-4962-a0b0-ce12f9cbcb0f",
   "metadata": {},
   "outputs": [
    {
     "name": "stdout",
     "output_type": "stream",
     "text": [
      "education\n",
      "cigsPerDay\n",
      "totChol\n",
      "BMI\n",
      "heartRate\n",
      "glucose\n"
     ]
    }
   ],
   "source": [
    "# for totChol in df.columns:\n",
    "#     if df[totChol].isnull().sum()>0:\n",
    "#         print(totChol)"
   ]
  },
  {
   "cell_type": "code",
   "execution_count": 13,
   "id": "85b1f3c8-e206-4f1d-95b7-239dac051056",
   "metadata": {},
   "outputs": [],
   "source": [
    "replace_value=0\n",
    "if df.totChol.std()>df.totChol.mean():\n",
    "    replace_value = df.totChol.median()\n",
    "else:\n",
    "    replace_value = df.totChol.mean()\n",
    "    "
   ]
  },
  {
   "cell_type": "code",
   "execution_count": 14,
   "id": "d5cf8738-3286-424f-a644-417f8d3afac7",
   "metadata": {},
   "outputs": [
    {
     "data": {
      "text/plain": [
       "236.69952267303103"
      ]
     },
     "execution_count": 14,
     "metadata": {},
     "output_type": "execute_result"
    }
   ],
   "source": [
    "replace_value"
   ]
  },
  {
   "cell_type": "code",
   "execution_count": 17,
   "id": "814f7cbb-2f64-43ba-9fbe-bcf4074e8bc1",
   "metadata": {},
   "outputs": [],
   "source": [
    "df[\"totChol\"].fillna(replace_value, inplace=True )"
   ]
  },
  {
   "cell_type": "code",
   "execution_count": null,
   "id": "e67249ae-3858-4519-b59a-bd303cfdd203",
   "metadata": {},
   "outputs": [],
   "source": [
    "#how to know if a data is going to be numeric or non-numeric; if it is numeric, \n",
    "#replace it with mean and if its not numeric, use the median\n",
    "if df.BPMeds()>df.totChol.mean():\n",
    "    replace_value = df.totChol.median()\n",
    "else:\n",
    "    replace_value = df.totChol.mean()\n"
   ]
  },
  {
   "cell_type": "code",
   "execution_count": 20,
   "id": "2aad7062-1ff0-4394-bfcc-1eca4975f1de",
   "metadata": {},
   "outputs": [
    {
     "data": {
      "text/plain": [
       "male                 0\n",
       "age                  0\n",
       "education            0\n",
       "currentSmoker        0\n",
       "cigsPerDay           0\n",
       "BPMeds               0\n",
       "prevalentStroke      0\n",
       "prevalentHyp         0\n",
       "diabetes             0\n",
       "totChol              0\n",
       "sysBP                0\n",
       "diaBP                0\n",
       "BMI                 19\n",
       "heartRate            1\n",
       "glucose            388\n",
       "TenYearCHD           0\n",
       "dtype: int64"
      ]
     },
     "execution_count": 20,
     "metadata": {},
     "output_type": "execute_result"
    }
   ],
   "source": [
    "df.isnull().sum()"
   ]
  },
  {
   "cell_type": "code",
   "execution_count": null,
   "id": "66776eeb-3cbf-4850-b041-4d6d4eacb82a",
   "metadata": {},
   "outputs": [],
   "source": []
  },
  {
   "cell_type": "code",
   "execution_count": null,
   "id": "d7cd5c0c-724f-46bb-a4bc-996c8b1057cb",
   "metadata": {},
   "outputs": [],
   "source": [
    "df.BMI.fillna()."
   ]
  },
  {
   "cell_type": "code",
   "execution_count": 24,
   "id": "4f4a294a-3f13-4f49-81f7-21a187548b6c",
   "metadata": {},
   "outputs": [],
   "source": [
    "replace_value = 1\n",
    "if df.dtypes.BPMeds !=\"object\":\n",
    "    replace_value = df.BPMeds.mean()\n",
    "else:\n",
    "    replace_value = df.BPMeds.mode()[0]\n"
   ]
  },
  {
   "cell_type": "code",
   "execution_count": 25,
   "id": "16acd745-8715-4404-84ff-81729b6f4e22",
   "metadata": {},
   "outputs": [],
   "source": [
    "df[\"BPMeds\"].fillna(replace_value, inplace=True )"
   ]
  },
  {
   "cell_type": "code",
   "execution_count": 26,
   "id": "d00ac0fb-600b-483e-9ca3-0f0a0dbff8d5",
   "metadata": {},
   "outputs": [
    {
     "data": {
      "text/plain": [
       "male                 0\n",
       "age                  0\n",
       "education            0\n",
       "currentSmoker        0\n",
       "cigsPerDay           0\n",
       "BPMeds               0\n",
       "prevalentStroke      0\n",
       "prevalentHyp         0\n",
       "diabetes             0\n",
       "totChol              0\n",
       "sysBP                0\n",
       "diaBP                0\n",
       "BMI                 19\n",
       "heartRate            1\n",
       "glucose            388\n",
       "TenYearCHD           0\n",
       "dtype: int64"
      ]
     },
     "execution_count": 26,
     "metadata": {},
     "output_type": "execute_result"
    }
   ],
   "source": [
    "df.isnull().sum()"
   ]
  },
  {
   "cell_type": "code",
   "execution_count": 28,
   "id": "407c6472-0113-4b75-a2f5-efbb6bdfdd67",
   "metadata": {},
   "outputs": [],
   "source": [
    "replace_value = 1\n",
    "if df.dtypes.BPMeds == \"object\":\n",
    "    replace_value = df.BPMeds.mode()[0]\n",
    "else:\n",
    "    replace_value = df.BPMeds.mean()"
   ]
  },
  {
   "cell_type": "code",
   "execution_count": 38,
   "id": "2158a4f3-7b88-47a2-96ba-744a575d548c",
   "metadata": {},
   "outputs": [
    {
     "ename": "SyntaxError",
     "evalue": "invalid syntax (1962255087.py, line 4)",
     "output_type": "error",
     "traceback": [
      "\u001b[1;36m  Cell \u001b[1;32mIn[38], line 4\u001b[1;36m\u001b[0m\n\u001b[1;33m    elif:\u001b[0m\n\u001b[1;37m        ^\u001b[0m\n\u001b[1;31mSyntaxError\u001b[0m\u001b[1;31m:\u001b[0m invalid syntax\n"
     ]
    }
   ],
   "source": [
    "# if df.dtypes.BMI  == \"object\":\n",
    "#     if df.BMI.std()>df.BMI.mean():\n",
    "#         replace_value = df.BMI.median()\n",
    "# elif:\n",
    "#     replace_value = df.BMI.mean()\n",
    "# else:\n",
    "#     replace_value = df.BMI.mode()[0]\n",
    "    "
   ]
  },
  {
   "cell_type": "code",
   "execution_count": 32,
   "id": "ea61e532-1893-4b4e-86c4-dc0bf9748a3a",
   "metadata": {},
   "outputs": [
    {
     "data": {
      "text/plain": [
       "25.80080075811419"
      ]
     },
     "execution_count": 32,
     "metadata": {},
     "output_type": "execute_result"
    }
   ],
   "source": [
    "replace_value"
   ]
  },
  {
   "cell_type": "code",
   "execution_count": 33,
   "id": "765eee81-3e28-43ed-b83a-5715f033a4d7",
   "metadata": {},
   "outputs": [
    {
     "data": {
      "text/plain": [
       "dtype('float64')"
      ]
     },
     "execution_count": 33,
     "metadata": {},
     "output_type": "execute_result"
    }
   ],
   "source": [
    "df.dtypes.BMI"
   ]
  },
  {
   "cell_type": "code",
   "execution_count": 41,
   "id": "6377d0fa-9ec1-4c8f-bb05-b88db7b6d855",
   "metadata": {},
   "outputs": [],
   "source": [
    "replace_value = 1\n",
    "if df.dtypes.BMI == \"object\":\n",
    "    replace_value = df.BMI.mode()[0]\n",
    "else:\n",
    "    replace_value = df.BMI.mean()\n",
    "if df.BMI.std()>df.BMI.mean():\n",
    "    replace_value = df.BMI.median()\n",
    "else:\n",
    "    replace_value = df.BMI.mean()\n"
   ]
  },
  {
   "cell_type": "code",
   "execution_count": 43,
   "id": "75df5d4b-8617-4e04-8286-22e49e8fb41a",
   "metadata": {},
   "outputs": [],
   "source": [
    "if df.dtypes.BMI == \"object\":\n",
    "    replace_value = df.BMI.mode()[0]\n",
    "    \n",
    "elif df.BMI.std()>df.BMI.mean():\n",
    "    replace_value = df.BMI.median()\n",
    "else:\n",
    "    replace_value = df.BMI.mean()\n"
   ]
  },
  {
   "cell_type": "code",
   "execution_count": 44,
   "id": "c3028208-34ff-4b7e-8399-d710998f0408",
   "metadata": {},
   "outputs": [
    {
     "data": {
      "text/plain": [
       "25.80080075811419"
      ]
     },
     "execution_count": 44,
     "metadata": {},
     "output_type": "execute_result"
    }
   ],
   "source": [
    "replace_value"
   ]
  },
  {
   "cell_type": "code",
   "execution_count": null,
   "id": "b765a069-1cb0-4cb1-8816-1c7f133a0137",
   "metadata": {},
   "outputs": [],
   "source": [
    "df.dtypes"
   ]
  },
  {
   "cell_type": "code",
   "execution_count": null,
   "id": "43a94112-572f-4485-949b-26346d9c3901",
   "metadata": {},
   "outputs": [],
   "source": [
    "# missing_data= [\"BMI\", \"glucose\", \"education\", \"cigsPerDay\", \"heartRate \" ]\n",
    "# if df.dtypes.BMI == \"object\":\n",
    "#     replace_value = df.BMI.mode()[0]\n",
    "    \n",
    "# elif df.BMI.std()>df.BMI.mean():\n",
    "#     replace_value = df.BMI.median()\n",
    "# else:\n",
    "#     replace_value = df.BMI.mean()\n"
   ]
  },
  {
   "cell_type": "code",
   "execution_count": 47,
   "id": "ffcecd36-3540-4043-9e6d-ca305b208066",
   "metadata": {},
   "outputs": [
    {
     "data": {
      "text/plain": [
       "Index(['gender', 'age', 'education', 'currentSmoker', 'cigsPerDay', 'BPMeds',\n",
       "       'prevalentStroke', 'prevalentHyp', 'diabetes', 'totChol', 'sysBP',\n",
       "       'diaBP', 'BMI', 'heartRate', 'glucose', 'TenYearCHD'],\n",
       "      dtype='object')"
      ]
     },
     "execution_count": 47,
     "metadata": {},
     "output_type": "execute_result"
    }
   ],
   "source": [
    "df.columns"
   ]
  },
  {
   "cell_type": "code",
   "execution_count": null,
   "id": "896cdaad-f327-43e2-a229-113c4229b825",
   "metadata": {},
   "outputs": [],
   "source": [
    "sdf[column_name].fillna(replace_value, inplace=True )"
   ]
  },
  {
   "cell_type": "code",
   "execution_count": 48,
   "id": "6ee14dbf-4806-4c70-b44b-c69420561414",
   "metadata": {},
   "outputs": [],
   "source": [
    "sdf=df.copy()"
   ]
  },
  {
   "cell_type": "code",
   "execution_count": null,
   "id": "c2848c6f-42af-4823-8703-d57faac0e8b1",
   "metadata": {},
   "outputs": [],
   "source": [
    "#function will take column_name"
   ]
  },
  {
   "cell_type": "code",
   "execution_count": 51,
   "id": "bd7c0b81-6214-4e52-88bc-d7255b0a5ed9",
   "metadata": {},
   "outputs": [],
   "source": [
    "column_name = \"BMI\"\n",
    "if sdf.dtypes[column_name] == \"object\":\n",
    "    replace_value = sdf[column_name].mode()[0]\n",
    "    \n",
    "elif sdf[column_name].std()>sdf[column_name].mean():\n",
    "    replace_value = sdf[column_name].median()\n",
    "else:\n",
    "    replace_value = sdf[column_name].mean()\n",
    "sdf[column_name].fillna(replace_value, inplace=True)"
   ]
  },
  {
   "cell_type": "code",
   "execution_count": 67,
   "id": "6a4cc422-5d59-4c7b-b5f7-fa27c15a59cf",
   "metadata": {},
   "outputs": [],
   "source": [
    "def missing_data(column_name):\n",
    "    if sdf.dtypes[column_name] == \"object\":\n",
    "        replace_value = sdf[column_name].mode()[0]\n",
    "    \n",
    "    elif sdf[column_name].std()>sdf[column_name].mean():\n",
    "        replace_value = sdf[column_name].median()\n",
    "    else:\n",
    "        replace_value = sdf[column_name].mean()\n",
    "    sdf[column_name].fillna(replace_value, inplace=True)\n",
    "    "
   ]
  },
  {
   "cell_type": "code",
   "execution_count": 70,
   "id": "051e8602-274b-4384-a657-1870e3396cba",
   "metadata": {},
   "outputs": [],
   "source": [
    "missing_data(\"heartRate\")"
   ]
  },
  {
   "cell_type": "code",
   "execution_count": 71,
   "id": "3dd8c499-5f28-40f9-a502-95d0865d84f5",
   "metadata": {},
   "outputs": [
    {
     "data": {
      "text/plain": [
       "gender             0\n",
       "age                0\n",
       "education          0\n",
       "currentSmoker      0\n",
       "cigsPerDay         0\n",
       "BPMeds             0\n",
       "prevalentStroke    0\n",
       "prevalentHyp       0\n",
       "diabetes           0\n",
       "totChol            0\n",
       "sysBP              0\n",
       "diaBP              0\n",
       "BMI                0\n",
       "heartRate          0\n",
       "glucose            0\n",
       "TenYearCHD         0\n",
       "dtype: int64"
      ]
     },
     "execution_count": 71,
     "metadata": {},
     "output_type": "execute_result"
    }
   ],
   "source": [
    "sdf.isnull().sum()"
   ]
  },
  {
   "cell_type": "code",
   "execution_count": null,
   "id": "c0516ce8-198d-4525-bcc5-08fbb177f0af",
   "metadata": {},
   "outputs": [],
   "source": []
  },
  {
   "cell_type": "code",
   "execution_count": null,
   "id": "c39d1d0f-3e83-47e5-bb17-2c331b59aab2",
   "metadata": {},
   "outputs": [],
   "source": []
  },
  {
   "cell_type": "code",
   "execution_count": null,
   "id": "3dfbbd29-2b32-4a04-bab8-6ddaf41987f2",
   "metadata": {},
   "outputs": [],
   "source": []
  },
  {
   "cell_type": "code",
   "execution_count": null,
   "id": "a65260f7-f1bc-4285-8be3-587f0c332be4",
   "metadata": {},
   "outputs": [],
   "source": []
  },
  {
   "cell_type": "code",
   "execution_count": null,
   "id": "0581f57c-4e26-425a-941c-c09acfe74400",
   "metadata": {},
   "outputs": [],
   "source": []
  }
 ],
 "metadata": {
  "kernelspec": {
   "display_name": "Python 3 (ipykernel)",
   "language": "python",
   "name": "python3"
  },
  "language_info": {
   "codemirror_mode": {
    "name": "ipython",
    "version": 3
   },
   "file_extension": ".py",
   "mimetype": "text/x-python",
   "name": "python",
   "nbconvert_exporter": "python",
   "pygments_lexer": "ipython3",
   "version": "3.11.7"
  }
 },
 "nbformat": 4,
 "nbformat_minor": 5
}
